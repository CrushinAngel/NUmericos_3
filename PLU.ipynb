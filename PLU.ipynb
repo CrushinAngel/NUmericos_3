{
 "cells": [
  {
   "cell_type": "code",
   "execution_count": 186,
   "id": "52afecca",
   "metadata": {},
   "outputs": [
    {
     "name": "stdout",
     "output_type": "stream",
     "text": [
      "A=\n",
      "0.00      3.00      2.00      \n",
      "5.00      0.00      1.00      \n",
      "1.00      1.00      0.00      \n",
      "b=\n",
      "20.00      27.00      6.00      \n"
     ]
    }
   ],
   "source": [
    "import numpy as np\n",
    "\n",
    "N=3\n",
    "A = np.empty((N,N))\n",
    "L = np.empty((N,N))\n",
    "x = np.empty(N)\n",
    "y = np.empty(N)\n",
    "A = np.array([[0., 3., 2.],\n",
    "              [5., 0., 1.],\n",
    "              [1., 1., 0.]])\n",
    "b = np.array([20.,27.,6.])\n",
    "\n",
    "print('A=')\n",
    "for row in A:         # print A\n",
    "    for item in row: \n",
    "        print('%.2f      ' % item, end=\"\") \n",
    "    print()\n",
    "    \n",
    "print('b=')\n",
    "for item in b:         # print b \n",
    "    print('%.2f      ' % item, end=\"\") \n",
    "print()"
   ]
  },
  {
   "cell_type": "markdown",
   "id": "e47a3e71",
   "metadata": {},
   "source": [
    "\\begin{equation}\n",
    "\\begin{bmatrix} \n",
    "a_{11} & a_{12} & a_{13} & a_{14} \\\\\n",
    "a_{21} & a_{22} & a_{23} & a_{24}\\\\\n",
    "a_{31} & a_{32} & a_{33} & a_{34}\\\\\n",
    "a_{41} & a_{42} & a_{43} & a_{44}\\\\\n",
    "\\end{bmatrix}\n",
    "\\to\n",
    "\\begin{bmatrix} \n",
    "\\beta_{11} & a_{12} & a_{13} & a_{14} \\\\\n",
    "\\alpha_{21} & a_{22} & a_{23} & a_{24}\\\\\n",
    "\\alpha_{31} & a_{32} & a_{33} & a_{34}\\\\\n",
    "\\alpha_{41} & a_{42} & a_{43} & a_{44}\\\\\n",
    "\\end{bmatrix}\n",
    "\\to\n",
    "\\begin{bmatrix} \n",
    "\\beta_{11} & \\beta_{12} & a_{13} & a_{14} \\\\\n",
    "\\alpha_{21} & \\beta_{22} & a_{23} & a_{24}\\\\\n",
    "\\alpha_{31} & \\alpha_{32} & a_{33} & a_{34}\\\\\n",
    "\\alpha_{41} & \\alpha_{42} & a_{43} & a_{44}\\\\\n",
    "\\end{bmatrix}\n",
    "\\to\n",
    "\\begin{bmatrix} \n",
    "\\beta_{11} & \\beta_{12} & \\beta_{13} & a_{14} \\\\\n",
    "\\alpha_{21} & \\beta_{22} & \\beta_{23} & a_{24}\\\\\n",
    "\\alpha_{31} & \\alpha_{32} & \\beta_{33} & a_{34}\\\\\n",
    "\\alpha_{41} & \\alpha_{42} & \\alpha_{43} & a_{44}\\\\\n",
    "\\end{bmatrix}\n",
    "\\to\n",
    "\\begin{bmatrix} \n",
    "\\beta_{11} & \\beta_{12} & \\beta_{13} & \\beta_{14} \\\\\n",
    "\\alpha_{21} & \\beta_{22} & \\beta_{23} & \\beta_{24}\\\\\n",
    "\\alpha_{31} & \\alpha_{32} & \\beta_{33} & \\beta_{34}\\\\\n",
    "\\alpha_{41} & \\alpha_{42} & \\alpha_{43} & \\beta_{44}\\\\\n",
    "\\end{bmatrix}\n",
    "\\end{equation}"
   ]
  },
  {
   "cell_type": "markdown",
   "id": "629698d6",
   "metadata": {},
   "source": [
    "Given the elements $a_{i,j}$ of matrix $\\mathbf{A}$, for each column $j$ calculate:\n",
    "1) For $i=1,...,j$:\n",
    "\\begin{equation}\n",
    "\\beta_{ij} = a_{ij} - \\sum_{k=1}^{i-1}\\alpha_{ik}\\beta_{kj}\n",
    "\\end{equation}\n",
    "\\begin{equation}\n",
    "a_{ij} = \\beta_{ij} \\,\\, (\\textrm{i.e., replace}\\, a_{ij}\\, \\textrm{for}\\, \\beta_{ij})\n",
    "\\end{equation}\n",
    "2) For $i=j+1,...,N$:\n",
    "\\begin{equation}\n",
    "\\alpha_{ij} = (a_{ij} - \\sum_{k=1}^{j-1}\\alpha_{ik}\\beta_{kj})/\\beta_{jj}\n",
    "\\end{equation}\n",
    "\\begin{equation}\n",
    "a_{ij} = \\alpha_{ij} \\,\\, (\\textrm{i.e., replace}\\, a_{ij}\\, \\textrm{for}\\, \\alpha_{ij})\n",
    "\\end{equation}"
   ]
  },
  {
   "cell_type": "code",
   "execution_count": 187,
   "id": "3a705731",
   "metadata": {},
   "outputs": [
    {
     "name": "stdout",
     "output_type": "stream",
     "text": [
      "A_fin=\n",
      "5.00      0.00      1.00      \n",
      "0.00      3.00      2.00      \n",
      "0.20      0.33      -0.87      \n"
     ]
    }
   ],
   "source": [
    "for j in range(N):    # j es el indice de la columna   \n",
    "    for i in range(1,j+1):\n",
    "        A[i,j] -= np.dot(A[i,:i],A[:i,j])\n",
    "    pivot = A[j,j] \n",
    "    for i in range(j+1,N): \n",
    "        A[i,j] -= np.dot(A[i,:j],A[:j,j])\n",
    "    pivot_fila = np.argmax(np.abs(A[j:, j])) + j\n",
    "    if pivot_fila != j:  \n",
    "        b[[j, pivot_fila]] = b[[pivot_fila, j]]\n",
    "        A[[j, pivot_fila], :] = A[[pivot_fila, j], :]\n",
    "    for i in range(j+1,N): \n",
    "        A[i,j] = A[i,j]/A[j,j]  \n",
    "print('A_fin=')\n",
    "for row in A:         # imprimimos el A final\n",
    "    for item in row: \n",
    "        print('%.2f      ' % item, end=\"\") \n",
    "    print()"
   ]
  },
  {
   "cell_type": "code",
   "execution_count": 188,
   "id": "6e9b39da",
   "metadata": {},
   "outputs": [
    {
     "name": "stdout",
     "output_type": "stream",
     "text": [
      "L=\n",
      "1.00      0.00      0.00      \n",
      "0.00      1.00      0.00      \n",
      "0.20      0.33      1.00      \n",
      "U=\n",
      "5.00      0.00      1.00      \n",
      "0.00      3.00      2.00      \n",
      "0.00      0.00      -0.87      \n"
     ]
    }
   ],
   "source": [
    "# Here we separate L and U\n",
    "for i in range(N):\n",
    "    for j in range(N):\n",
    "        if i == j:\n",
    "            L[i,j] = 1\n",
    "        else:\n",
    "            if i > j:\n",
    "                L[i,j] = A[i,j]\n",
    "                A[i,j] = 0\n",
    "            else:\n",
    "                L[i,j] = 0\n",
    "print('L=')\n",
    "for row in L:         # a little print function\n",
    "    for item in row: \n",
    "        print('%.2f      ' % item, end=\"\") \n",
    "    print()\n",
    "print('U=')\n",
    "for row in A:         # a little print function\n",
    "    for item in row: \n",
    "        print('%.2f      ' % item, end=\"\") \n",
    "    print()"
   ]
  },
  {
   "cell_type": "markdown",
   "id": "75e1c280",
   "metadata": {},
   "source": [
    "Finally we solve for $\\vec{y}$ in the following equation:\n",
    "\\begin{equation}\n",
    "\\mathbf{L}\\vec{y} = \\vec{b'},\n",
    "\\end{equation}\n",
    "where the \"prime\" (') means that the elements of $\\vec{b}$ have been subject to the same permutations as $\\mathbf{A}$ (this only applies if pivoting has been implemented). Then\n",
    "\\begin{equation}\n",
    "y_i = b_i' - \\sum_{k=1}^{i-1} \\alpha_{ik}y_k\n",
    "\\end{equation}"
   ]
  },
  {
   "cell_type": "code",
   "execution_count": 189,
   "id": "0df9d3b5",
   "metadata": {},
   "outputs": [
    {
     "name": "stdout",
     "output_type": "stream",
     "text": [
      "y= [27.         20.         -6.06666667]\n"
     ]
    }
   ],
   "source": [
    "for i in range(N):\n",
    "    y[i] = b[i] - np.dot(L[i,:i],y[:i])\n",
    "print('y=',y)"
   ]
  },
  {
   "cell_type": "markdown",
   "id": "0d90a5b3",
   "metadata": {},
   "source": [
    "And then we solve for $\\vec{x}$ in the following equation:\n",
    "\\begin{equation}\n",
    "\\mathbf{U}\\vec{x} = \\vec{y}.\n",
    "\\end{equation}\n",
    "This means that:\n",
    "\\begin{equation}\n",
    "x_i = (y_i - \\sum_{k=i+1}^{N} \\beta_{ik}x_k)/\\beta_{ii}.\n",
    "\\end{equation}"
   ]
  },
  {
   "cell_type": "code",
   "execution_count": 190,
   "id": "0c58ba8e",
   "metadata": {},
   "outputs": [
    {
     "name": "stdout",
     "output_type": "stream",
     "text": [
      "x= [4. 2. 7.]\n"
     ]
    }
   ],
   "source": [
    "for i in range(N-1, -1, -1):\n",
    "    x[i] = (y[i] - np.dot(A[i, i+1:], x[i+1:])) / A[i, i]\n",
    "print('x=',x)"
   ]
  },
  {
   "cell_type": "code",
   "execution_count": 191,
   "id": "972874ef",
   "metadata": {},
   "outputs": [
    {
     "name": "stdout",
     "output_type": "stream",
     "text": [
      "1\n",
      "2\n",
      "3\n",
      "4\n",
      "5\n"
     ]
    }
   ],
   "source": [
    "j=1\n",
    "N=6\n",
    "for i in range(j, N):\n",
    "    print(i)"
   ]
  },
  {
   "cell_type": "code",
   "execution_count": 192,
   "id": "0129f628",
   "metadata": {},
   "outputs": [
    {
     "name": "stdout",
     "output_type": "stream",
     "text": [
      "[1, 2, 3, 4]\n"
     ]
    }
   ],
   "source": [
    "a = [1,2,3,4]\n",
    "print(a[0:])"
   ]
  },
  {
   "cell_type": "code",
   "execution_count": null,
   "id": "1457d5c4",
   "metadata": {},
   "outputs": [],
   "source": []
  }
 ],
 "metadata": {
  "kernelspec": {
   "display_name": "Python 3 (ipykernel)",
   "language": "python",
   "name": "python3"
  },
  "language_info": {
   "codemirror_mode": {
    "name": "ipython",
    "version": 3
   },
   "file_extension": ".py",
   "mimetype": "text/x-python",
   "name": "python",
   "nbconvert_exporter": "python",
   "pygments_lexer": "ipython3",
   "version": "3.12.2"
  }
 },
 "nbformat": 4,
 "nbformat_minor": 5
}
