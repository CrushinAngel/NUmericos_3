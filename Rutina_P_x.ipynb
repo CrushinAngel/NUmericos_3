{
 "cells": [
  {
   "cell_type": "markdown",
   "id": "e067aa1d",
   "metadata": {},
   "source": [
    "# Rutina para todos los métodos"
   ]
  },
  {
   "cell_type": "markdown",
   "id": "5708b515",
   "metadata": {},
   "source": [
    "## Plot de $P(x)$"
   ]
  },
  {
   "cell_type": "code",
   "execution_count": 1,
   "id": "dff6fb8f-1fb3-4def-8a3a-e3f3e591c209",
   "metadata": {},
   "outputs": [
    {
     "data": {
      "image/png": "[encoded data removed]",
      "text/plain": [
       "<Figure size 640x480 with 1 Axes>"
      ]
     },
     "metadata": {},
     "output_type": "display_data"
    }
   ],
   "source": [
    "import numpy as np\n",
    "import matplotlib.pyplot as plt\n",
    "\n",
    "def f(x):\n",
    "    return (x**7 \n",
    "        - 3*x**6 \n",
    "        - 8*x**5 \n",
    "       + 20*x**4 \n",
    "       + 15*x**3 \n",
    "       - 13*x**2 \n",
    "       + 24*x \n",
    "       - 30)\n",
    "\n",
    "# Plotting f(x)\n",
    "a, b, N = -2.5, 3.5, 100\n",
    "x = np.linspace(a, b, N)\n",
    "y = f(x)\n",
    "\n",
    "plt.plot(x, y, color='blue')\n",
    "plt.title('Graficando $f(x)$')\n",
    "plt.xlabel(\"$x$\", fontsize=14)\n",
    "plt.ylabel(\"$f(x)$\", fontsize=14)\n",
    "plt.grid(True, ls = '--', c = 'k', alpha = 0.2)\n",
    "\n",
    "plt.show()\n"
   ]
  },
  {
   "cell_type": "markdown",
   "id": "e4530f57",
   "metadata": {},
   "source": [
    "## Funciones para método de Bisección"
   ]
  },
  {
   "cell_type": "code",
   "execution_count": 2,
   "id": "57ab6bbf",
   "metadata": {},
   "outputs": [],
   "source": [
    "def find_root_bis(x1, x2, delta, max_iter):\n",
    "    f1, f2 = f(x1), f(x2)  \n",
    "    #for _ in range(max_iter):\n",
    "    count = 0\n",
    "    while np.abs(x2 - x1) > delta:\n",
    "        x3 = 0.5 * (x1 + x2)\n",
    "        f3 = f(x3) \n",
    "        if f1 * f3 > 0:\n",
    "            x1, f1 = x3, f3\n",
    "        else:\n",
    "            x2, f2 = x3, f3\n",
    "        count += 1\n",
    "\n",
    "    dist = x2 - x1\n",
    "    print(f'Distancia entre bordes: {dist}')\n",
    "    print(f'Numero de iteraciones: {count}')\n",
    "    return 0.5 * (x1 + x2), dist, count\n",
    "\n",
    "# Encontrando la raiz en el intervalo [l1, l2],\n",
    "# con muestreo tamaño L, se crea una \n",
    "# función para simplificar aplicación\n",
    "\n",
    "def root_interval(l1, l2, L, function):\n",
    "    var = (l2 - l1) / L\n",
    "    delta = 1e-5\n",
    "    max_iter = int(np.log2(var/delta)) + 1\n",
    "\n",
    "    for j in range(L):\n",
    "        x1, x2 = l1 + j * var, l1 + (j + 1) * var\n",
    "        if f(x1) * f(x2) < 0:\n",
    "            root, dist, count = function(x1, x2, delta, max_iter)\n",
    "            print(f'Root: {root}')\n",
    "            f_root = f(root)\n",
    "            print(f'f(root): {f_root}')\n",
    "            print('---')\n",
    "\n",
    "    data = [dist, count, root, f_root]\n",
    "    return data\n",
    "    "
   ]
  },
  {
   "cell_type": "markdown",
   "id": "245b065b",
   "metadata": {},
   "source": [
    "### Raíces en Bisección"
   ]
  },
  {
   "cell_type": "code",
   "execution_count": 3,
   "id": "be554d89-f9e2-4cdd-86d7-8ad3fd539b76",
   "metadata": {},
   "outputs": [
    {
     "name": "stdout",
     "output_type": "stream",
     "text": [
      "Distancia entre bordes: 9.765625000213163e-06\n",
      "Numero de iteraciones: 9\n",
      "Root: -2.1159033203125004\n",
      "f(root): -0.000215423452381458\n",
      "---\n",
      "Distancia entre bordes: 9.765625000213163e-06\n",
      "Numero de iteraciones: 9\n",
      "Root: -1.8587353515624998\n",
      "f(root): 0.000361206260038216\n",
      "---\n",
      "Distancia entre bordes: 9.765624999991118e-06\n",
      "Numero de iteraciones: 9\n",
      "Root: 0.9113525390625\n",
      "f(root): -0.0002724187482385787\n",
      "---\n"
     ]
    }
   ],
   "source": [
    "first_bis = root_interval(-2.5, -2, 100, find_root_bis)\n",
    "second_bis = root_interval(-2, -1.5, 100, find_root_bis)\n",
    "third_bis = root_interval(0.5, 1, 100, find_root_bis)\n"
   ]
  },
  {
   "cell_type": "markdown",
   "id": "bc10341f",
   "metadata": {},
   "source": [
    "## Funciones para Posición Falsa"
   ]
  },
  {
   "cell_type": "code",
   "execution_count": 4,
   "id": "3f463de9",
   "metadata": {},
   "outputs": [],
   "source": [
    "def find_root_pf(x1, x2, delta, max_iter):\n",
    "    f1, f2 = f(x1), f(x2)  \n",
    "#    for _ in range(max_iter):\n",
    "    count = 0\n",
    "    while np.abs(x2 - x1) > delta:\n",
    "        x3 = x1 - f1 * (x2 - x1) / (f2-f1)\n",
    "        f3 = f(x3) \n",
    "        if f1 * f3 > 0:\n",
    "            x1, f1 = x3, f3\n",
    "        else:\n",
    "            x2, f2 = x3, f3\n",
    "        count += 1\n",
    "\n",
    "    dist = x2 - x1\n",
    "    print(f'Distancia entre bordes: {dist}')\n",
    "    print(f'Numero de iteraciones: {count}')\n",
    "    return 0.5 * (x1 + x2), dist, count"
   ]
  },
  {
   "cell_type": "markdown",
   "id": "6556ff2c",
   "metadata": {},
   "source": [
    "### Raíces en Posición Falsa"
   ]
  },
  {
   "cell_type": "code",
   "execution_count": 5,
   "id": "02ef0d2d",
   "metadata": {},
   "outputs": [
    {
     "name": "stdout",
     "output_type": "stream",
     "text": [
      "Distancia entre bordes: 1.7763568394002505e-15\n",
      "Numero de iteraciones: 8\n",
      "Root: -2.1159014044928797\n",
      "f(root): 1.5631940186722204e-13\n",
      "---\n",
      "Distancia entre bordes: 6.661338147750939e-16\n",
      "Numero de iteraciones: 7\n",
      "Root: -1.858730558982339\n",
      "f(root): 1.4210854715202004e-14\n",
      "---\n",
      "Distancia entre bordes: 2.220446049250313e-16\n",
      "Numero de iteraciones: 6\n",
      "Root: 0.9113568402145922\n",
      "f(root): -7.105427357601002e-15\n",
      "---\n"
     ]
    }
   ],
   "source": [
    "first_pf = root_interval(-2.5, -2, 100, find_root_pf)\n",
    "second_pf = root_interval(-2, -1.5, 100, find_root_pf)\n",
    "third_pf = root_interval(0.5, 1, 100, find_root_pf)\n"
   ]
  },
  {
   "cell_type": "markdown",
   "id": "a35e632d",
   "metadata": {},
   "source": [
    "## Funciones para Secante"
   ]
  },
  {
   "cell_type": "code",
   "execution_count": 6,
   "id": "effcafa9",
   "metadata": {},
   "outputs": [],
   "source": [
    "def find_root_sec(x1,x2, delta, max_iter): \n",
    "    f1 = f(x1)\n",
    "    f2 = f(x2)\n",
    "    count = 0\n",
    "    while np.abs(x2 - x1) > delta:\n",
    "        x3 = x1 - f1 * (x2 - x1) / (f2-f1)\n",
    "        f3 = f(x3)\n",
    "        x1, f1 = x2, f2\n",
    "        x2, f2 = x3, f3\n",
    "        count += 1\n",
    "    \n",
    "    dist  = x2 - x1\n",
    "    print(f'Distancia entre bordes: {dist}')\n",
    "    print(f'Numero de iteraciones: {count}')\n",
    "    return 0.5 * (x1 + x2), dist, count"
   ]
  },
  {
   "cell_type": "markdown",
   "id": "013644fd",
   "metadata": {},
   "source": [
    "### Raíces en Secante"
   ]
  },
  {
   "cell_type": "code",
   "execution_count": 7,
   "id": "afbc2ec7",
   "metadata": {},
   "outputs": [
    {
     "name": "stdout",
     "output_type": "stream",
     "text": [
      "Distancia entre bordes: 9.575407533546354e-08\n",
      "Numero de iteraciones: 3\n",
      "Root: -2.115901452359787\n",
      "f(root): -5.382318001068143e-06\n",
      "---\n",
      "Distancia entre bordes: 8.880201463057347e-08\n",
      "Numero de iteraciones: 3\n",
      "Root: -1.858730603381197\n",
      "f(root): 3.346280692539949e-06\n",
      "---\n",
      "Distancia entre bordes: 3.828718634135697e-06\n",
      "Numero de iteraciones: 2\n",
      "Root: 0.911354915001461\n",
      "f(root): -0.00012193596266030227\n",
      "---\n"
     ]
    }
   ],
   "source": [
    "first_sec = root_interval(-2.5, -2, 100, find_root_sec)\n",
    "second_sec = root_interval(-2, -1.5, 100, find_root_sec)\n",
    "third_sec = root_interval(0.5, 1, 100, find_root_sec)"
   ]
  },
  {
   "cell_type": "markdown",
   "id": "6d64c543",
   "metadata": {},
   "source": [
    "## Funciones para Newton-Raphson"
   ]
  },
  {
   "cell_type": "code",
   "execution_count": 8,
   "id": "683f84ce",
   "metadata": {},
   "outputs": [],
   "source": [
    "def df(x):\n",
    "    return (7*x**6 \n",
    "        - 6*3*x**5 \n",
    "        - 5*8*x**4 \n",
    "       + 4*20*x**3 \n",
    "       + 3*15*x**2 \n",
    "       - 2*13*x \n",
    "       + 24)\n",
    "\n",
    "def find_root_nr(x1,x2, delta, max_iter):\n",
    "    f1 = f(x1)\n",
    "    count = 0\n",
    "    while np.abs(x2 - x1) > delta:\n",
    "        x3 = x1 - f1 / df(x1)#* (x2 - x1) / (f2-f1)\n",
    "        f3 = f(x3)\n",
    "        x2, f2 = x1, f1\n",
    "        x1, f1 = x3, f3\n",
    "        count += 1\n",
    "\n",
    "    dist = x2 - x1\n",
    "    print(f'Distancia entre bordes: {dist}')\n",
    "    print(f'Numero de iteraciones: {count}')\n",
    "    return 0.5 * (x1 + x2), dist, count"
   ]
  },
  {
   "cell_type": "markdown",
   "id": "8eef201f",
   "metadata": {},
   "source": [
    "### Raíces en Newton-Raphson"
   ]
  },
  {
   "cell_type": "code",
   "execution_count": 9,
   "id": "19b08428",
   "metadata": {},
   "outputs": [
    {
     "name": "stdout",
     "output_type": "stream",
     "text": [
      "Distancia entre bordes: -4.124264618710072e-08\n",
      "Numero de iteraciones: 3\n",
      "Root: -2.115901425114213\n",
      "f(root): -2.318732526873646e-06\n",
      "---\n",
      "Distancia entre bordes: 3.7067282816494185e-06\n",
      "Numero de iteraciones: 2\n",
      "Root: -1.8587287055869597\n",
      "f(root): -0.0001396884573594548\n",
      "---\n",
      "Distancia entre bordes: 1.435540778693678e-06\n",
      "Numero de iteraciones: 2\n",
      "Root: 0.9113575579865851\n",
      "f(root): 4.5461147905712096e-05\n",
      "---\n"
     ]
    }
   ],
   "source": [
    "first_nr = root_interval(-2.5, -2, 100, find_root_nr)\n",
    "second_nr = root_interval(-2, -1.5, 100, find_root_nr)\n",
    "third_nr = root_interval(0.5, 1, 100, find_root_nr)"
   ]
  }
 ],
 "metadata": {
  "kernelspec": {
   "display_name": "Python 3",
   "language": "python",
   "name": "python3"
  },
  "language_info": {
   "codemirror_mode": {
    "name": "ipython",
    "version": 3
   },
   "file_extension": ".py",
   "mimetype": "text/x-python",
   "name": "python",
   "nbconvert_exporter": "python",
   "pygments_lexer": "ipython3",
   "version": "3.11.4"
  }
 },
 "nbformat": 4,
 "nbformat_minor": 5
}
